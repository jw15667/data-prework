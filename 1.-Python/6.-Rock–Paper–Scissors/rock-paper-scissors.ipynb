{
 "cells": [
  {
   "cell_type": "markdown",
   "metadata": {},
   "source": [
    "<img src=\"https://bit.ly/2VnXWr2\" width=\"100\" align=\"left\">"
   ]
  },
  {
   "cell_type": "markdown",
   "metadata": {},
   "source": [
    "# Rock, Paper & Scissors\n",
    "\n",
    "Let's play the famous game against our computer. You can check the rules [here](https://en.wikipedia.org/wiki/Rock%E2%80%93paper%E2%80%93scissors). \n",
    "\n",
    "## Task\n",
    "Create a program that imitates the playability of the well known game of rock, paper, scissors. Follow the guidelines provided.\n",
    "\n",
    "## Tools\n",
    "1. Loop: **for/while**\n",
    "2. Functions: **input(), print()...**\n",
    "3. Conditional statements: **if, elif, else**\n",
    "4. Definition of functions. Modular programming\n",
    "5. Import modules\n",
    "\n",
    "**To solve this challenge, the use of functions is recommended.**\n",
    "\n",
    "#### 1. Import the choice function of the random module."
   ]
  },
  {
   "cell_type": "code",
   "execution_count": 1,
   "metadata": {},
   "outputs": [],
   "source": [
    "from random import choice"
   ]
  },
  {
   "cell_type": "markdown",
   "metadata": {},
   "source": [
    "#### 2. Create a list that includes the 3 possible gesture options of the game: 'rock', 'paper' or 'scissors'. Store the list in a variable called `gestures`."
   ]
  },
  {
   "cell_type": "code",
   "execution_count": 2,
   "metadata": {},
   "outputs": [],
   "source": [
    "gestures = ['rock', 'paper', 'scissors']"
   ]
  },
  {
   "cell_type": "markdown",
   "metadata": {},
   "source": [
    "#### 3. Create a variable called `n_rounds` to store the maximum number of rounds to play in a game. \n",
    "Remember that the number of rounds must be odd: 1, 3, 5, ..."
   ]
  },
  {
   "cell_type": "code",
   "execution_count": 3,
   "metadata": {},
   "outputs": [
    {
     "name": "stdout",
     "output_type": "stream",
     "text": [
      "Select an odd number of rounds\n",
      "5\n",
      "You have chosen to play 5. Good luck!\n"
     ]
    }
   ],
   "source": [
    "print(\"Select an odd number of rounds\")\n",
    "n_rounds = int(input())\n",
    "\n",
    "while n_rounds % 2 == 0:\n",
    "    print(\"Please select an odd number of rounds\")\n",
    "    n_rounds = int(input())\n",
    "\n",
    "print(\"You have chosen to play \" + str(n_rounds) + \". Good luck!\")\n"
   ]
  },
  {
   "cell_type": "markdown",
   "metadata": {},
   "source": [
    "#### 4. Create a variable called `rounds_to_win` to store the number of rounds that a player must win to win the game.\n",
    "**Hint**: the value stored in `rounds_to_win` depends on the value of `n_rounds`. "
   ]
  },
  {
   "cell_type": "code",
   "execution_count": 4,
   "metadata": {},
   "outputs": [
    {
     "name": "stdout",
     "output_type": "stream",
     "text": [
      "3\n"
     ]
    }
   ],
   "source": [
    "rounds_to_win = (n_rounds // 2) + 1 \n",
    "print(rounds_to_win)"
   ]
  },
  {
   "cell_type": "markdown",
   "metadata": {},
   "source": [
    "#### 5. Create two variables to store the number of rounds that the computer and the player have won. Call these variables `cpu_score` and `player_score`."
   ]
  },
  {
   "cell_type": "code",
   "execution_count": 5,
   "metadata": {},
   "outputs": [],
   "source": [
    "cpu_score = 0\n",
    "player_score = 0"
   ]
  },
  {
   "cell_type": "markdown",
   "metadata": {},
   "source": [
    "#### 6. Define a function that randomly returns one of the 3 gesture options.\n",
    "You will use this function to simulate the gesture choice of the computer. "
   ]
  },
  {
   "cell_type": "code",
   "execution_count": 6,
   "metadata": {},
   "outputs": [
    {
     "data": {
      "text/plain": [
       "'scissors'"
      ]
     },
     "execution_count": 6,
     "metadata": {},
     "output_type": "execute_result"
    }
   ],
   "source": [
    "def random_gesture(): \n",
    "    return choice(gestures)\n",
    "random_gesture()"
   ]
  },
  {
   "cell_type": "markdown",
   "metadata": {},
   "source": [
    "#### 7. Define a function that asks the player which is the gesture he or she wants to show: 'rock', 'paper' or 'scissors'.\n",
    "The player should only be allowed to choose one of the 3 gesture options. If the player's choice is not rock, paper or scissors, keep asking until it is."
   ]
  },
  {
   "cell_type": "code",
   "execution_count": 7,
   "metadata": {},
   "outputs": [
    {
     "name": "stdout",
     "output_type": "stream",
     "text": [
      "Please choose: rock, paper or scissors \n",
      "rock\n"
     ]
    },
    {
     "data": {
      "text/plain": [
       "'rock'"
      ]
     },
     "execution_count": 7,
     "metadata": {},
     "output_type": "execute_result"
    }
   ],
   "source": [
    "def player_gesture():\n",
    "    choice = \"\"\n",
    "    \n",
    "    while choice not in gestures:\n",
    "        print('Please choose: rock, paper or scissors ')\n",
    "        choice = input()\n",
    "    return choice\n",
    "\n",
    "player_gesture()"
   ]
  },
  {
   "cell_type": "markdown",
   "metadata": {},
   "source": [
    "#### 8. Define a function that checks who won a round. \n",
    "The function should return 0 if there is a tie, 1 if the computer wins and 2 if the player wins."
   ]
  },
  {
   "cell_type": "code",
   "execution_count": 11,
   "metadata": {},
   "outputs": [],
   "source": [
    "random_gesture = ''\n",
    "player_gesture = ''\n",
    "rounds = 0\n",
    "\n",
    "def who_won():\n",
    "    winner = []\n",
    "    cpu_score = 0\n",
    "    player_score = 0\n",
    "    print(\"Computer chose >> \" + computer, \"\\nPlayer chose>> \" + player)\n",
    "    if computer == player:\n",
    "        rounds += 1\n",
    "    elif computer == 'rock' and player == 'scissor':\n",
    "        cpu_score += 1\n",
    "        who_won.append(1)\n",
    "        rounds += 1\n",
    "    elif computer == 'rock' and player == 'paper':\n",
    "        rounds += 1\n",
    "        player_score += 1\n",
    "        who_won.append(2)\n",
    "    elif computer == 'scissors' and player == 'paper':\n",
    "        cpu_score += 1\n",
    "        who_won.append(1)\n",
    "        rounds += 1\n",
    "    elif computer == 'scissors' and player == 'rock':\n",
    "        rounds += 1\n",
    "        player_score += 1\n",
    "        who_won.append(2)\n",
    "    elif computer == 'paper' and player == 'rock':\n",
    "        cpu_score += 1\n",
    "        who_won.append(1)\n",
    "        rounds += 1\n",
    "    elif computer == 'paper' and player == 'scissors':\n",
    "        rounds += 1\n",
    "        player_score += 1\n",
    "        who_won.append(2)"
   ]
  },
  {
   "cell_type": "markdown",
   "metadata": {},
   "source": [
    "#### 9. Define a function that prints the choice of the computer, the choice of the player and a message that announces who won the current round. \n",
    "You should also use this function to update the variables that count the number of rounds that the computer and the player have won. The score of the winner increases by one point. If there is a tie, the score does not increase."
   ]
  },
  {
   "cell_type": "code",
   "execution_count": 26,
   "metadata": {},
   "outputs": [],
   "source": [
    "def round_results():\n",
    "    print(\"The results after \" + str(rounds))\n",
    "    print(\"Computer won: \" + str(cpu_score))\n",
    "    print(\"You won: \" + str(player_score))\n",
    "    \n",
    "def match_winner():\n",
    "    named_winners = []\n",
    "    i = 0\n",
    "    for i in range(len(0, rounds)):\n",
    "        if winner[i] == 0:\n",
    "            named_winners.append(\"Drawn\")\n",
    "            i += 1\n",
    "        elif winner[i] == 1:\n",
    "            named_winners.append(\"Computer\")\n",
    "            i += 1\n",
    "        elif winner[i] == 2:\n",
    "            named_winners.append(\"Player\")\n",
    "            i += 1\n",
    "named_winners = []\n",
    "winner = []"
   ]
  },
  {
   "cell_type": "markdown",
   "metadata": {},
   "source": [
    "#### 10. Now it's time to code the execution of the game using the functions and variables you defined above. \n",
    "\n",
    "First, create a loop structure that repeats while no player reaches the minimum score necessary to win and the number of rounds is less than the maximum number of rounds to play in a game.  \n",
    "\n",
    "Inside the loop, use the functions and variables above to create the execution of a round: ask for the player's choice, generate the random choice of the computer, show the round results, update the scores, etc. "
   ]
  },
  {
   "cell_type": "code",
   "execution_count": 27,
   "metadata": {},
   "outputs": [
    {
     "name": "stdout",
     "output_type": "stream",
     "text": [
      "Choose your weapon: rock\n",
      "Computer chose >> rock \n",
      "Player chose>> rock\n",
      "Tie\n",
      "Damn, the computer wins the match!\n"
     ]
    }
   ],
   "source": [
    "while cpu_score or player_score < rounds_to_win:\n",
    "    player_gesture = input(\"Choose your weapon: \")\n",
    "    computer = choice(gestures)\n",
    "    print(\"Computer chose >> \" + computer, \"\\nPlayer chose>> \" + player_gesture)\n",
    "    \n",
    "    if computer == player_gesture:\n",
    "        winner.append(0)\n",
    "        named_winners.append(\"It's a draw\")\n",
    "        rounds += 1\n",
    "        print(\"Tie\")\n",
    "    elif computer == 'rock' and player_gesture == 'scissor':\n",
    "        cpu_score += 1\n",
    "        winner.append(1)\n",
    "        named_winners.append(\"Computer wins!\")\n",
    "        rounds += 1\n",
    "        print('Computer')\n",
    "    elif computer == 'rock' and player_gesture == 'paper':\n",
    "        player_score += 1\n",
    "        winner.append(2)\n",
    "        named_winners.append(\"Player wins!\")\n",
    "        rounds += 1\n",
    "        print('Player')\n",
    "    elif computer == 'scissors' and player_gesture == 'paper':\n",
    "        cpu_score += 1\n",
    "        winner.append(1)\n",
    "        named_winners.append(\"Computer wins!\")\n",
    "        rounds += 1\n",
    "        print('Computer')\n",
    "    elif computer == 'scissors' and player_gesture == 'rock':\n",
    "        player_score += 1\n",
    "        winner.append(2)\n",
    "        named_winners.append(\"Player wins!\")\n",
    "        rounds += 1\n",
    "        print('Player')\n",
    "    elif computer == 'paper' and player_gesture == 'rock':\n",
    "        cpu_score += 1\n",
    "        winner.append(1)\n",
    "        named_winners.append(\"Computer wins!\")\n",
    "        rounds += 1\n",
    "        print('Computer')\n",
    "    elif computer == 'paper' and player_gesture == 'scissors':\n",
    "        player_score += 1\n",
    "        winner.append(2)\n",
    "        named_winners.append(\"Player wins!\")\n",
    "        rounds += 1\n",
    "        print('Player')\n",
    "    if cpu_score == rounds_to_win:\n",
    "        print(\"Damn, the computer wins the match!\")\n",
    "        break\n",
    "    elif player_score == rounds_to_win:\n",
    "        print(\"You won! You beat the computer!!\")\n",
    "        break\n"
   ]
  },
  {
   "cell_type": "markdown",
   "metadata": {},
   "source": [
    "#### 11. Print the winner of the game based on who won more rounds.\n",
    "Remember that the game might be tied. "
   ]
  },
  {
   "cell_type": "code",
   "execution_count": 28,
   "metadata": {},
   "outputs": [
    {
     "name": "stdout",
     "output_type": "stream",
     "text": [
      "The game sequence was [0]\n",
      "The game sequence was [\"It's a draw\"]\n",
      "The computer wins!\n"
     ]
    }
   ],
   "source": [
    "print(\"The game sequence was\", winner)\n",
    "print(\"The game sequence was\", named_winners)\n",
    "\n",
    "if cpu_score == rounds_to_win:\n",
    "    print(\"The computer wins!\")\n",
    "elif player_score == rounds_to_win:\n",
    "    print(\"Player wins!!\")"
   ]
  },
  {
   "cell_type": "markdown",
   "metadata": {},
   "source": [
    "# Bonus: Rock, Paper, Scissors, Lizard & Spock\n",
    "![](images/rpsls.jpg)\n",
    "\n",
    "In this challenge, you need to improve the previous game by adding two new options. To know more about the rules of the improved version of rock, paper, scissors, check this [link](http://www.samkass.com/theories/RPSSL.html). \n",
    "\n",
    "In addition, you will also need to improve how the game interacts with the player: the number of rounds to play, which must be an odd number, will be requested to the user until a valid number is entered. Define a new function to make that request.\n",
    "\n",
    "**Hint**: Try to reuse the code that you already coded in the previous challenge. If your code is efficient, this bonus will only consist of simple modifications to the original game."
   ]
  },
  {
   "cell_type": "code",
   "execution_count": null,
   "metadata": {},
   "outputs": [],
   "source": []
  }
 ],
 "metadata": {
  "kernelspec": {
   "display_name": "Python 3",
   "language": "python",
   "name": "python3"
  },
  "language_info": {
   "codemirror_mode": {
    "name": "ipython",
    "version": 3
   },
   "file_extension": ".py",
   "mimetype": "text/x-python",
   "name": "python",
   "nbconvert_exporter": "python",
   "pygments_lexer": "ipython3",
   "version": "3.9.0"
  }
 },
 "nbformat": 4,
 "nbformat_minor": 2
}
