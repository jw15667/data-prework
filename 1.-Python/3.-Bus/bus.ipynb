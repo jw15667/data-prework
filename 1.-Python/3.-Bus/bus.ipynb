{
 "cells": [
  {
   "cell_type": "markdown",
   "metadata": {},
   "source": [
    "<img src=\"https://bit.ly/2VnXWr2\" width=\"100\" align=\"left\">"
   ]
  },
  {
   "cell_type": "markdown",
   "metadata": {},
   "source": [
    "# Bus\n",
    "\n",
    "This bus has a passenger entry and exit control system to monitor the number of occupants it carries and thus detect when there are too many.\n",
    "\n",
    "At each stop, the entry and exit of passengers is represented by a tuple consisting of two integer numbers.\n",
    "```\n",
    "bus_stop = (in, out)\n",
    "```\n",
    "The succession of stops is represented by a list of these tuples.\n",
    "```\n",
    "stops = [(in1, out1), (in2, out2), (in3, out3), (in4, out4)]\n",
    "```\n",
    "\n",
    "## Tools\n",
    "You don't necessarily need to use all the tools. Maybe you opt to use some of them or completely different ones, they are given to help you shape the exercise. Programming exercises can be solved in many different ways.\n",
    "* Data structures: **lists, tuples**\n",
    "* Loop: **while/for loops**\n",
    "* Functions: **min, max, len**\n",
    "\n",
    "## Tasks"
   ]
  },
  {
   "cell_type": "code",
   "execution_count": 66,
   "metadata": {},
   "outputs": [],
   "source": [
    "# Variables\n",
    "stops = [(10, 0), (4, 1), (3, 5), (3, 4), (5, 1), (1, 5), (5, 8), (4, 6), (2, 3)]"
   ]
  },
  {
   "cell_type": "markdown",
   "metadata": {},
   "source": [
    "#### 1. Calculate the number of stops."
   ]
  },
  {
   "cell_type": "code",
   "execution_count": 4,
   "metadata": {},
   "outputs": [
    {
     "data": {
      "text/plain": [
       "9"
      ]
     },
     "execution_count": 4,
     "metadata": {},
     "output_type": "execute_result"
    }
   ],
   "source": [
    "len(stops)"
   ]
  },
  {
   "cell_type": "markdown",
   "metadata": {},
   "source": [
    "#### 2. Assign to a variable a list whose elements are the number of passengers at each stop (in-out).\n",
    "Each item depends on the previous item in the list + in - out."
   ]
  },
  {
   "cell_type": "code",
   "execution_count": 99,
   "metadata": {},
   "outputs": [
    {
     "name": "stdout",
     "output_type": "stream",
     "text": [
      "Bus capacity for each stops is: \n",
      " [10, 10, 14, 13, 16, 11, 14, 10, 15, 14, 15, 10, 15, 7, 11, 5, 7, 4]\n"
     ]
    }
   ],
   "source": [
    "total_pass = []\n",
    "bus_occupation = []\n",
    "\n",
    "for s in stops:\n",
    "    for key,value in enumerate(s):\n",
    "        if key == 0:\n",
    "            value = value\n",
    "            total_pass.append(int(value))\n",
    "        elif key == 1:\n",
    "            value = -1*value\n",
    "            total_pass.append(int(value))\n",
    "\n",
    "for i in range(len(total_pass) + 1):\n",
    "    totals = sum(total_pass[0:i])\n",
    "    bus_occupation.append(totals)\n",
    "\n",
    "bus_occupation = bus_occupation[1:]\n",
    "\n",
    "print(\"Bus capacity for each stops is: \\n\", bus_occupation)"
   ]
  },
  {
   "cell_type": "markdown",
   "metadata": {},
   "source": [
    "#### 3. Find the maximum occupation of the bus."
   ]
  },
  {
   "cell_type": "code",
   "execution_count": 100,
   "metadata": {},
   "outputs": [
    {
     "name": "stdout",
     "output_type": "stream",
     "text": [
      "The maximum occupation of the bus is 16\n"
     ]
    }
   ],
   "source": [
    "max_occupation = max(bus_occupation);\n",
    "\n",
    "print(\"The maximum occupation of the bus is \" + str(max_occupation))"
   ]
  },
  {
   "cell_type": "markdown",
   "metadata": {},
   "source": [
    "#### 4. Calculate the average occupation. And the standard deviation."
   ]
  },
  {
   "cell_type": "code",
   "execution_count": 123,
   "metadata": {},
   "outputs": [
    {
     "name": "stdout",
     "output_type": "stream",
     "text": [
      "The average occupation of the bus is 11.166666666666666\n",
      "The standard deviation of the bus is 3.5355339059327378\n"
     ]
    }
   ],
   "source": [
    "import math\n",
    "average_occupation = sum(bus_occupation) / len(bus_occupation)\n",
    "averages = []\n",
    "for stop in bus_occupation:\n",
    "        a = int(stop) - int(average_occupation)\n",
    "        b = a ** 2\n",
    "        averages.append(b)\n",
    "        \n",
    "standard_deviation = math.sqrt(sum(averages) / len(averages))\n",
    "print(\"The average occupation of the bus is \" + str(average_occupation))\n",
    "print(\"The standard deviation of the bus is \" + str(standard_deviation))"
   ]
  }
 ],
 "metadata": {
  "kernelspec": {
   "display_name": "Python 3",
   "language": "python",
   "name": "python3"
  },
  "language_info": {
   "codemirror_mode": {
    "name": "ipython",
    "version": 3
   },
   "file_extension": ".py",
   "mimetype": "text/x-python",
   "name": "python",
   "nbconvert_exporter": "python",
   "pygments_lexer": "ipython3",
   "version": "3.9.0"
  }
 },
 "nbformat": 4,
 "nbformat_minor": 2
}
