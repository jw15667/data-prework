{
 "cells": [
  {
   "cell_type": "markdown",
   "metadata": {},
   "source": [
    "<img src=\"https://bit.ly/2VnXWr2\" width=\"100\" align=\"left\">"
   ]
  },
  {
   "cell_type": "markdown",
   "metadata": {},
   "source": [
    "# Bus\n",
    "\n",
    "This bus has a passenger entry and exit control system to monitor the number of occupants it carries and thus detect when there are too many.\n",
    "\n",
    "At each stop, the entry and exit of passengers is represented by a tuple consisting of two integer numbers.\n",
    "```\n",
    "bus_stop = (in, out)\n",
    "```\n",
    "The succession of stops is represented by a list of these tuples.\n",
    "```\n",
    "stops = [(in1, out1), (in2, out2), (in3, out3), (in4, out4)]\n",
    "```\n",
    "\n",
    "## Tools\n",
    "You don't necessarily need to use all the tools. Maybe you opt to use some of them or completely different ones, they are given to help you shape the exercise. Programming exercises can be solved in many different ways.\n",
    "* Data structures: **lists, tuples**\n",
    "* Loop: **while/for loops**\n",
    "* Functions: **min, max, len**\n",
    "\n",
    "## Tasks"
   ]
  },
  {
   "cell_type": "code",
   "execution_count": 7,
   "metadata": {},
   "outputs": [],
   "source": [
    "# Variables\n",
    "stops = [(10, 0), (4, 1), (3, 5), (3, 4), (5, 1), (1, 5), (5, 8), (4, 6), (2, 3)]"
   ]
  },
  {
   "cell_type": "markdown",
   "metadata": {},
   "source": [
    "#### 1. Calculate the number of stops."
   ]
  },
  {
   "cell_type": "code",
   "execution_count": 8,
   "metadata": {},
   "outputs": [
    {
     "data": {
      "text/plain": [
       "9"
      ]
     },
     "execution_count": 8,
     "metadata": {},
     "output_type": "execute_result"
    }
   ],
   "source": [
    "len(stops)"
   ]
  },
  {
   "cell_type": "markdown",
   "metadata": {},
   "source": [
    "#### 2. Assign to a variable a list whose elements are the number of passengers at each stop (in-out).\n",
    "Each item depends on the previous item in the list + in - out."
   ]
  },
  {
   "cell_type": "code",
   "execution_count": 66,
   "metadata": {},
   "outputs": [
    {
     "name": "stdout",
     "output_type": "stream",
     "text": [
      "The occupation for the bus is:  [0, 10, 10, 14, 13, 16, 11, 14, 10, 15, 14, 15, 10, 15, 7, 11, 5, 7, 4, 14, 14, 18, 17, 20, 15, 18, 14, 19, 18, 19, 14, 19, 11, 15, 9, 11, 8, 18, 18, 22, 21, 24, 19, 22, 18, 23, 22, 23, 18, 23, 15, 19, 13, 15, 12, 22, 22, 26, 25, 28, 23, 26, 22, 27, 26, 27, 22, 27, 19, 23, 17, 19, 16, 26, 26, 30, 29, 32, 27, 30, 26, 31, 30, 31, 26, 31, 23, 27, 21, 23]\n"
     ]
    }
   ],
   "source": [
    "total_pass = []\n",
    "bus_occupation = []\n",
    "\n",
    "for s in stops:\n",
    "    for key,value in enumerate(s):\n",
    "        if key == 0:\n",
    "            value = value\n",
    "            passengers_values.append(int(value))\n",
    "        elif key == 1:\n",
    "            value = -1*value\n",
    "            passengers_values.append(int(value))\n",
    "        \n",
    "\n",
    "for i in range(len(passengers_values)):\n",
    "    num = sum(passengers_values[0:i])\n",
    "    bus_occupation.append(num)\n",
    "\n",
    "print(\"The occupation for the bus is: \", bus_occupation)"
   ]
  },
  {
   "cell_type": "markdown",
   "metadata": {},
   "source": [
    "#### 3. Find the maximum occupation of the bus."
   ]
  },
  {
   "cell_type": "code",
   "execution_count": 57,
   "metadata": {},
   "outputs": [
    {
     "name": "stdout",
     "output_type": "stream",
     "text": [
      "The maximum occupation of the bus is 16\n"
     ]
    }
   ],
   "source": [
    "\n",
    "max_occupation = max(bus_occupation);\n",
    "\n",
    "print(f\"The maximum occupation of the bus is {max_occupation}\")"
   ]
  },
  {
   "cell_type": "markdown",
   "metadata": {},
   "source": [
    "#### 4. Calculate the average occupation. And the standard deviation."
   ]
  },
  {
   "cell_type": "code",
   "execution_count": 56,
   "metadata": {},
   "outputs": [
    {
     "name": "stdout",
     "output_type": "stream",
     "text": [
      "The average occupation of the bus is 10.94\n"
     ]
    }
   ],
   "source": [
    "avrg_occupation = round(sum(bus_occupation)/len(bus_occupation),2)\n",
    "\n",
    "print(f\"The average occupation of the bus is {avrg_occupation}\")"
   ]
  }
 ],
 "metadata": {
  "kernelspec": {
   "display_name": "Python 3",
   "language": "python",
   "name": "python3"
  },
  "language_info": {
   "codemirror_mode": {
    "name": "ipython",
    "version": 3
   },
   "file_extension": ".py",
   "mimetype": "text/x-python",
   "name": "python",
   "nbconvert_exporter": "python",
   "pygments_lexer": "ipython3",
   "version": "3.9.0"
  }
 },
 "nbformat": 4,
 "nbformat_minor": 2
}
