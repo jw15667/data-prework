{
 "cells": [
  {
   "cell_type": "markdown",
   "metadata": {},
   "source": [
    "<img src=\"https://bit.ly/2VnXWr2\" width=\"100\" align=\"left\"/>"
   ]
  },
  {
   "cell_type": "markdown",
   "metadata": {},
   "source": [
    "# Robin Hood\n",
    "Robin Hood has entered a competition to win the archery contest in Sherwood. With his bow and arrows, he needs to shoot on a target and try to hit as close as possible to the center.\n",
    "\n",
    "![](images/arrows.jpg)\n",
    "\n",
    "## Context\n",
    "In this challenge, the landing position of arrows shot by archers in the competition will be represented using 2-dimensional coordinates. \n",
    "\n",
    "In the 2-dimensional space, a point can be defined by a pair of values that correspond to the horizontal coordinate (x) and the vertical coordinate (y). For example, in our case, an arrow that hits the center of the archery target will land in position (0, 0) on the coordinate axes. \n",
    "\n",
    "The space can be divided into 4 zones (quadrants): Q1, Q2, Q3, Q4. If a point is in Q1, both its x coordinate and y coordinate are positive. Any point with a null x or y coordinate is considered to not belong to any quadrant. \n",
    "\n",
    "If you want to know more about the cartesian coordinate system, you can check this [link](https://en.wikipedia.org/wiki/Cartesian_coordinate_system). \n",
    "\n",
    "## Tools\n",
    "You don't necessarily need to use all the tools. Maybe you opt to use some of them or completely different ones, they are given to help you shape the exercise. Programming exercises can be solved in many different ways.\n",
    "* Data structures: **lists, sets, tuples**\n",
    "* Conditional statements: **if-elif-else**\n",
    "* Loop: **while/for**\n",
    "* Minimum (optional sorting)\n",
    "\n",
    "## Tasks\n",
    "Robin Hood has hit the following points:"
   ]
  },
  {
   "cell_type": "code",
   "execution_count": 16,
   "metadata": {},
   "outputs": [],
   "source": [
    "points = [(4, 5), (-0, 2), (4, 7), (1, -3), (3, -2), (4, 5), (3, 2), (5, 7), (-5, 7), (2, 2), (-4, 5), (0, -2),\n",
    "          (-4, 7), (-1, 3), (-3, 2), (-4, -5), (-3, 2), (5, 7), (5, 7), (2, 2), (9, 9), (-8, -9)]"
   ]
  },
  {
   "cell_type": "markdown",
   "metadata": {},
   "source": [
    "#### 1. Robin Hood is famous for hitting an arrow with another arrow. Find the coordinates of the points where an arrow hits another arrow."
   ]
  },
  {
   "cell_type": "code",
   "execution_count": 27,
   "metadata": {},
   "outputs": [
    {
     "data": {
      "text/plain": [
       "{(-3, 2), (2, 2), (4, 5), (5, 7)}"
      ]
     },
     "execution_count": 27,
     "metadata": {},
     "output_type": "execute_result"
    }
   ],
   "source": [
    "set([x for x in points if points.count(x) > 1])\n"
   ]
  },
  {
   "cell_type": "markdown",
   "metadata": {},
   "source": [
    "#### 2. Calculate how many arrows have fallen in each quadrant. \n",
    "**Note**: the arrows that fall in the axis (x=0 or y=0) don't belong to any quadrant."
   ]
  },
  {
   "cell_type": "code",
   "execution_count": 43,
   "metadata": {},
   "outputs": [
    {
     "name": "stdout",
     "output_type": "stream",
     "text": [
      "10 6 2 2\n"
     ]
    }
   ],
   "source": [
    "q1 = []\n",
    "q2 = []\n",
    "q3 = []\n",
    "q4 = []\n",
    "no_man_land = []\n",
    "for arrow in points:\n",
    "    if arrow[0] > 0 and arrow[1] > 0:\n",
    "        q1.append(arrow)\n",
    "    elif arrow[0] > 0 and arrow[1] < 0:\n",
    "        q4.append(arrow)\n",
    "    elif arrow[0] < 0 and arrow[1] > 0:\n",
    "        q2.append(arrow)\n",
    "    elif arrow[0] < 0 and arrow[1] < 0:\n",
    "        q3.append(arrow)\n",
    "    else:\n",
    "        no_man_land.append(arrow)\n",
    "\n",
    "number_q1 = len(q1)\n",
    "number_q2 = len(q2)\n",
    "number_q3 = len(q3)\n",
    "number_q4 = len(q4)\n",
    "\n",
    "print(number_q1, number_q2, number_q3, number_q4)"
   ]
  },
  {
   "cell_type": "markdown",
   "metadata": {},
   "source": [
    "#### 3. Find the point closest to the center. Calculate its distance to the center. \n",
    "Take into account that there might be more than one point at the minimum distance to the center.\n",
    "\n",
    "**Hint**: Use the Euclidean distance. You can find more information about it [here](https://en.wikipedia.org/wiki/Euclidean_distance).  \n",
    "**Hint**: Defining a function that calculates the distance to the center can help."
   ]
  },
  {
   "cell_type": "code",
   "execution_count": 44,
   "metadata": {},
   "outputs": [
    {
     "ename": "NameError",
     "evalue": "name 'euclidDist' is not defined",
     "output_type": "error",
     "traceback": [
      "\u001b[0;31m---------------------------------------------------------------------------\u001b[0m",
      "\u001b[0;31mNameError\u001b[0m                                 Traceback (most recent call last)",
      "\u001b[0;32m<ipython-input-44-cc86a1247b78>\u001b[0m in \u001b[0;36m<module>\u001b[0;34m\u001b[0m\n\u001b[1;32m      2\u001b[0m \u001b[0;34m\u001b[0m\u001b[0m\n\u001b[1;32m      3\u001b[0m \u001b[0;31m# Sol 1_ minimum in dict (only one value possible)\u001b[0m\u001b[0;34m\u001b[0m\u001b[0;34m\u001b[0m\u001b[0;34m\u001b[0m\u001b[0m\n\u001b[0;32m----> 4\u001b[0;31m \u001b[0mdicDist\u001b[0m \u001b[0;34m=\u001b[0m \u001b[0mdict\u001b[0m\u001b[0;34m(\u001b[0m\u001b[0mzip\u001b[0m\u001b[0;34m(\u001b[0m\u001b[0mpoints\u001b[0m\u001b[0;34m,\u001b[0m \u001b[0meuclidDist\u001b[0m\u001b[0;34m)\u001b[0m\u001b[0;34m)\u001b[0m\u001b[0;34m\u001b[0m\u001b[0;34m\u001b[0m\u001b[0m\n\u001b[0m\u001b[1;32m      5\u001b[0m \u001b[0mclosestPt\u001b[0m \u001b[0;34m=\u001b[0m \u001b[0mmin\u001b[0m\u001b[0;34m(\u001b[0m\u001b[0mdicDist\u001b[0m\u001b[0;34m,\u001b[0m \u001b[0mkey\u001b[0m\u001b[0;34m=\u001b[0m\u001b[0mdicDist\u001b[0m\u001b[0;34m.\u001b[0m\u001b[0mget\u001b[0m\u001b[0;34m)\u001b[0m\u001b[0;34m\u001b[0m\u001b[0;34m\u001b[0m\u001b[0m\n\u001b[1;32m      6\u001b[0m \u001b[0;34m\u001b[0m\u001b[0m\n",
      "\u001b[0;31mNameError\u001b[0m: name 'euclidDist' is not defined"
     ]
    }
   ],
   "source": [
    "import math\n",
    "\n",
    "# Sol 1_ minimum in dict (only one value possible)\n",
    "dicDist = dict(zip(points, euclidDist))\n",
    "closestPt = min(dicDist, key=dicDist.get)\n",
    "\n",
    "# Sol 2_ knowning minimum value and searching for keys (multiple values possibles)\n",
    "dicDist = {k: v for k, v in sorted(dicDist.items(), key=lambda item: item[1])}\n",
    "\n",
    "minVal = 2; # replace manually from sorted dicDist\n",
    "closestPt = [k for k,v in dicDist.items() if v == minVal] \n",
    "\n",
    "if len(closestPt) == 1:\n",
    "    print(f\"The closest arrow to the center is {closestPt}\")\n",
    "elif len(closestPt) >1:\n",
    "    print(f\"The closest arrows to the center are {closestPt}\")"
   ]
  },
  {
   "cell_type": "markdown",
   "metadata": {},
   "source": [
    "#### 4. If the archery target has a radius of 9, calculate the number of arrows that won't hit the target. \n",
    "**Hint**: Use the function created in step 3. "
   ]
  },
  {
   "cell_type": "code",
   "execution_count": null,
   "metadata": {},
   "outputs": [],
   "source": [
    "outerPts = [k for k,v in dicDist.items() if v >= 9] \n",
    "\n",
    "if len(outerPts) == 1:\n",
    "    print(f\"The arrow that won't hit the target is {outerPts}\")\n",
    "elif len(outerPts) >1:\n",
    "    print(f\"The arrows that won't hit the target are {outerPts}\")\n"
   ]
  },
  {
   "cell_type": "code",
   "execution_count": null,
   "metadata": {},
   "outputs": [],
   "source": [
    "print(dicDist)"
   ]
  }
 ],
 "metadata": {
  "kernelspec": {
   "display_name": "Python 3",
   "language": "python",
   "name": "python3"
  },
  "language_info": {
   "codemirror_mode": {
    "name": "ipython",
    "version": 3
   },
   "file_extension": ".py",
   "mimetype": "text/x-python",
   "name": "python",
   "nbconvert_exporter": "python",
   "pygments_lexer": "ipython3",
   "version": "3.9.0"
  }
 },
 "nbformat": 4,
 "nbformat_minor": 2
}
